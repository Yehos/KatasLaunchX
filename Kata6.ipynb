{
 "cells": [
  {
   "cell_type": "markdown",
   "metadata": {},
   "source": [
    "## Listas en python"
   ]
  },
  {
   "cell_type": "code",
   "execution_count": 3,
   "metadata": {},
   "outputs": [
    {
     "name": "stdout",
     "output_type": "stream",
     "text": [
      "['mercurio', 'venus', 'tierra', 'marte', 'jupiter', 'saturno', 'urano', 'neptuno']\n",
      "pluton\n"
     ]
    }
   ],
   "source": [
    "planets = [\"mercurio\",\"venus\",\"tierra\",\"marte\",\"jupiter\",\"saturno\",\"urano\",\"neptuno\"]\n",
    "print(planets)\n",
    "planets.append(\"pluton\")\n",
    "#print(planets)\n",
    "print(planets[-1])"
   ]
  },
  {
   "cell_type": "code",
   "execution_count": 9,
   "metadata": {},
   "outputs": [
    {
     "name": "stdout",
     "output_type": "stream",
     "text": [
      "No se encuentra ese planeta en la lista\n"
     ]
    }
   ],
   "source": [
    "#Solicitando al usuario\n",
    "\n",
    "planetaSolicitado = input(\"Dame el planeta de tu preferencia\") \n",
    "if(planetaSolicitado in planets):\n",
    "    posicionPlaneta = planets.index(planetaSolicitado)\n",
    "    print(\"El planeta \" + planetaSolicitado +\" si se encuentra y es el planeta #\" + str(posicionPlaneta))\n",
    "    print(\"La lista de planetas antes de este son: \")\n",
    "    print(planets[0:posicionPlaneta])\n",
    "    print(\"La lista de planetas despues de este son: \")\n",
    "    print(planets[posicionPlaneta+1:])\n",
    "else:\n",
    "    print(\"No se encuentra ese planeta en la lista\")\n"
   ]
  }
 ],
 "metadata": {
  "interpreter": {
   "hash": "23300995598eec4bcf6bd89cf02d1c3675e8b2616661418dbbf5580aa901878d"
  },
  "kernelspec": {
   "display_name": "Python 3.9.7 64-bit",
   "language": "python",
   "name": "python3"
  },
  "language_info": {
   "codemirror_mode": {
    "name": "ipython",
    "version": 3
   },
   "file_extension": ".py",
   "mimetype": "text/x-python",
   "name": "python",
   "nbconvert_exporter": "python",
   "pygments_lexer": "ipython3",
   "version": "3.9.7"
  },
  "orig_nbformat": 4
 },
 "nbformat": 4,
 "nbformat_minor": 2
}
