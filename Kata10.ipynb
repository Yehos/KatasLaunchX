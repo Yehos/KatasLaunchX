{
 "cells": [
  {
   "cell_type": "markdown",
   "metadata": {},
   "source": [
    "## Tracebacks"
   ]
  },
  {
   "cell_type": "code",
   "execution_count": 1,
   "metadata": {},
   "outputs": [
    {
     "ename": "FileNotFoundError",
     "evalue": "[Errno 2] No such file or directory: '/path/to/mars.jpg'",
     "output_type": "error",
     "traceback": [
      "\u001b[1;31m---------------------------------------------------------------------------\u001b[0m",
      "\u001b[1;31mFileNotFoundError\u001b[0m                         Traceback (most recent call last)",
      "\u001b[1;32mc:\\Users\\USER\\Documents\\LaunchX\\KatasRealizadas\\Kata10.ipynb Cell 2'\u001b[0m in \u001b[0;36m<module>\u001b[1;34m\u001b[0m\n\u001b[1;32m----> <a href='vscode-notebook-cell:/c%3A/Users/USER/Documents/LaunchX/KatasRealizadas/Kata10.ipynb#ch0000000?line=0'>1</a>\u001b[0m \u001b[39mopen\u001b[39;49m(\u001b[39m\"\u001b[39;49m\u001b[39m/path/to/mars.jpg\u001b[39;49m\u001b[39m\"\u001b[39;49m)\n",
      "\u001b[1;31mFileNotFoundError\u001b[0m: [Errno 2] No such file or directory: '/path/to/mars.jpg'"
     ]
    }
   ],
   "source": [
    "open(\"/path/to/mars.jpg\")"
   ]
  },
  {
   "cell_type": "code",
   "execution_count": 5,
   "metadata": {},
   "outputs": [],
   "source": [
    "def main():\n",
    "    open(\"marte.jpg\")\n",
    "\n",
    "if __name__ == '__main__':\n",
    "    main()"
   ]
  },
  {
   "cell_type": "code",
   "execution_count": 6,
   "metadata": {},
   "outputs": [
    {
     "name": "stdout",
     "output_type": "stream",
     "text": [
      "Couldn't find the config.txt file!\n"
     ]
    }
   ],
   "source": [
    "try:\n",
    "    open('config.txt')\n",
    "except FileNotFoundError:\n",
    "    print(\"Couldn't find the config.txt file!\")\n"
   ]
  },
  {
   "cell_type": "code",
   "execution_count": 8,
   "metadata": {},
   "outputs": [
    {
     "name": "stdout",
     "output_type": "stream",
     "text": [
      "Couldn't find the config.txt file!\n"
     ]
    }
   ],
   "source": [
    "def main():\n",
    "    try:\n",
    "        configuration = open('config.txt')\n",
    "    except FileNotFoundError:\n",
    "        print(\"Couldn't find the config.txt file!\")\n",
    "\n",
    "\n",
    "if __name__ == '__main__':\n",
    "    main()"
   ]
  },
  {
   "cell_type": "code",
   "execution_count": 10,
   "metadata": {},
   "outputs": [],
   "source": [
    "def main():\n",
    "    try:\n",
    "        configuration = open('config.txt')\n",
    "    except FileNotFoundError:\n",
    "        print(\"Couldn't find the config.txt file!\")\n",
    "    except IsADirectoryError:\n",
    "        print(\"Found config.txt but it is a directory, couldn't read it\")"
   ]
  },
  {
   "cell_type": "code",
   "execution_count": 14,
   "metadata": {},
   "outputs": [
    {
     "ename": "RuntimeError",
     "evalue": "No hay suficiente agua para 5 astronautas desúes de 2",
     "output_type": "error",
     "traceback": [
      "\u001b[1;31m---------------------------------------------------------------------------\u001b[0m",
      "\u001b[1;31mRuntimeError\u001b[0m                              Traceback (most recent call last)",
      "\u001b[1;32mc:\\Users\\USER\\Documents\\LaunchX\\KatasRealizadas\\Kata10.ipynb Cell 7'\u001b[0m in \u001b[0;36m<module>\u001b[1;34m\u001b[0m\n\u001b[0;32m      <a href='vscode-notebook-cell:/c%3A/Users/USER/Documents/LaunchX/KatasRealizadas/Kata10.ipynb#ch0000007?line=5'>6</a>\u001b[0m         \u001b[39mraise\u001b[39;00m \u001b[39mRuntimeError\u001b[39;00m(\u001b[39mf\u001b[39m\u001b[39m\"\u001b[39m\u001b[39mNo hay suficiente agua para \u001b[39m\u001b[39m{\u001b[39;00mastronautas\u001b[39m}\u001b[39;00m\u001b[39m astronautas desúes de \u001b[39m\u001b[39m{\u001b[39;00mdiasfaltantes\u001b[39m}\u001b[39;00m\u001b[39m\"\u001b[39m)\n\u001b[0;32m      <a href='vscode-notebook-cell:/c%3A/Users/USER/Documents/LaunchX/KatasRealizadas/Kata10.ipynb#ch0000007?line=6'>7</a>\u001b[0m     \u001b[39mreturn\u001b[39;00m \u001b[39mf\u001b[39m\u001b[39m\"\"\"\u001b[39m\u001b[39mAgua sobrante despues de \u001b[39m\u001b[39m{\u001b[39;00mdiasfaltantes\u001b[39m}\u001b[39;00m\u001b[39m dias es: \u001b[39m\u001b[39m{\u001b[39;00maguaSobranteTotal\u001b[39m}\u001b[39;00m\u001b[39m litros\u001b[39m\u001b[39m\"\"\"\u001b[39m\n\u001b[1;32m----> <a href='vscode-notebook-cell:/c%3A/Users/USER/Documents/LaunchX/KatasRealizadas/Kata10.ipynb#ch0000007?line=8'>9</a>\u001b[0m \u001b[39mprint\u001b[39m(aguasobrante(\u001b[39m5\u001b[39;49m,\u001b[39m100\u001b[39;49m,\u001b[39m2\u001b[39;49m))\n",
      "\u001b[1;32mc:\\Users\\USER\\Documents\\LaunchX\\KatasRealizadas\\Kata10.ipynb Cell 7'\u001b[0m in \u001b[0;36maguasobrante\u001b[1;34m(astronautas, aguaSobrante, diasfaltantes)\u001b[0m\n\u001b[0;32m      <a href='vscode-notebook-cell:/c%3A/Users/USER/Documents/LaunchX/KatasRealizadas/Kata10.ipynb#ch0000007?line=3'>4</a>\u001b[0m aguaSobranteTotal \u001b[39m=\u001b[39m aguaSobrante \u001b[39m-\u001b[39m usoTotal\n\u001b[0;32m      <a href='vscode-notebook-cell:/c%3A/Users/USER/Documents/LaunchX/KatasRealizadas/Kata10.ipynb#ch0000007?line=4'>5</a>\u001b[0m \u001b[39mif\u001b[39;00m(aguaSobranteTotal\u001b[39m<\u001b[39m\u001b[39m0\u001b[39m):\n\u001b[1;32m----> <a href='vscode-notebook-cell:/c%3A/Users/USER/Documents/LaunchX/KatasRealizadas/Kata10.ipynb#ch0000007?line=5'>6</a>\u001b[0m     \u001b[39mraise\u001b[39;00m \u001b[39mRuntimeError\u001b[39;00m(\u001b[39mf\u001b[39m\u001b[39m\"\u001b[39m\u001b[39mNo hay suficiente agua para \u001b[39m\u001b[39m{\u001b[39;00mastronautas\u001b[39m}\u001b[39;00m\u001b[39m astronautas desúes de \u001b[39m\u001b[39m{\u001b[39;00mdiasfaltantes\u001b[39m}\u001b[39;00m\u001b[39m\"\u001b[39m)\n\u001b[0;32m      <a href='vscode-notebook-cell:/c%3A/Users/USER/Documents/LaunchX/KatasRealizadas/Kata10.ipynb#ch0000007?line=6'>7</a>\u001b[0m \u001b[39mreturn\u001b[39;00m \u001b[39mf\u001b[39m\u001b[39m\"\"\"\u001b[39m\u001b[39mAgua sobrante despues de \u001b[39m\u001b[39m{\u001b[39;00mdiasfaltantes\u001b[39m}\u001b[39;00m\u001b[39m dias es: \u001b[39m\u001b[39m{\u001b[39;00maguaSobranteTotal\u001b[39m}\u001b[39;00m\u001b[39m litros\u001b[39m\u001b[39m\"\"\"\u001b[39m\n",
      "\u001b[1;31mRuntimeError\u001b[0m: No hay suficiente agua para 5 astronautas desúes de 2"
     ]
    }
   ],
   "source": [
    "def aguasobrante(astronautas,aguaSobrante,diasfaltantes):\n",
    "    usoDiario = astronautas * 11\n",
    "    usoTotal = usoDiario * diasfaltantes\n",
    "    aguaSobranteTotal = aguaSobrante - usoTotal\n",
    "    if(aguaSobranteTotal<0):\n",
    "        raise RuntimeError(f\"No hay suficiente agua para {astronautas} astronautas desúes de {diasfaltantes}\")\n",
    "    return f\"\"\"Agua sobrante despues de {diasfaltantes} dias es: {aguaSobranteTotal} litros\"\"\"\n",
    "\n",
    "try:\n",
    "    print(aguasobrante(5,100,2))\n",
    "except RuntimeError as err:\n",
    "    alert_navigation_system(err)"
   ]
  },
  {
   "cell_type": "code",
   "execution_count": 22,
   "metadata": {},
   "outputs": [
    {
     "ename": "RuntimeError",
     "evalue": "No hay suficiente agua para 5 astronautas para 2 dias!",
     "output_type": "error",
     "traceback": [
      "\u001b[1;31m---------------------------------------------------------------------------\u001b[0m",
      "\u001b[1;31mRuntimeError\u001b[0m                              Traceback (most recent call last)",
      "\u001b[1;32mc:\\Users\\USER\\Documents\\LaunchX\\KatasRealizadas\\Kata10.ipynb Cell 8'\u001b[0m in \u001b[0;36m<module>\u001b[1;34m\u001b[0m\n\u001b[0;32m     <a href='vscode-notebook-cell:/c%3A/Users/USER/Documents/LaunchX/KatasRealizadas/Kata10.ipynb#ch0000008?line=10'>11</a>\u001b[0m         \u001b[39mraise\u001b[39;00m \u001b[39mRuntimeError\u001b[39;00m(\u001b[39mf\u001b[39m\u001b[39m\"\"\"\u001b[39m\u001b[39mNo hay suficiente agua para \u001b[39m\u001b[39m{\u001b[39;00mastronautas\u001b[39m}\u001b[39;00m\u001b[39m astronautas para \u001b[39m\u001b[39m{\u001b[39;00mdiasfaltantes\u001b[39m}\u001b[39;00m\u001b[39m dias!\u001b[39m\u001b[39m\"\"\"\u001b[39m)\n\u001b[0;32m     <a href='vscode-notebook-cell:/c%3A/Users/USER/Documents/LaunchX/KatasRealizadas/Kata10.ipynb#ch0000008?line=11'>12</a>\u001b[0m     \u001b[39mreturn\u001b[39;00m \u001b[39mf\u001b[39m\u001b[39m\"\"\"\u001b[39m\u001b[39mAgua sobrante despues de \u001b[39m\u001b[39m{\u001b[39;00mdiasfaltantes\u001b[39m}\u001b[39;00m\u001b[39m dias es: \u001b[39m\u001b[39m{\u001b[39;00maguaSobranteTotal\u001b[39m}\u001b[39;00m\u001b[39m litros\u001b[39m\u001b[39m\"\"\"\u001b[39m\n\u001b[1;32m---> <a href='vscode-notebook-cell:/c%3A/Users/USER/Documents/LaunchX/KatasRealizadas/Kata10.ipynb#ch0000008?line=13'>14</a>\u001b[0m aguasobrante(\u001b[39m5\u001b[39;49m,\u001b[39m100\u001b[39;49m,\u001b[39m2\u001b[39;49m)\n",
      "\u001b[1;32mc:\\Users\\USER\\Documents\\LaunchX\\KatasRealizadas\\Kata10.ipynb Cell 8'\u001b[0m in \u001b[0;36maguasobrante\u001b[1;34m(astronautas, aguasobrante, diasfaltantes)\u001b[0m\n\u001b[0;32m      <a href='vscode-notebook-cell:/c%3A/Users/USER/Documents/LaunchX/KatasRealizadas/Kata10.ipynb#ch0000008?line=8'>9</a>\u001b[0m aguaSobranteTotal \u001b[39m=\u001b[39m aguasobrante \u001b[39m-\u001b[39m usoTotal\n\u001b[0;32m     <a href='vscode-notebook-cell:/c%3A/Users/USER/Documents/LaunchX/KatasRealizadas/Kata10.ipynb#ch0000008?line=9'>10</a>\u001b[0m \u001b[39mif\u001b[39;00m aguaSobranteTotal \u001b[39m<\u001b[39m \u001b[39m0\u001b[39m:\n\u001b[1;32m---> <a href='vscode-notebook-cell:/c%3A/Users/USER/Documents/LaunchX/KatasRealizadas/Kata10.ipynb#ch0000008?line=10'>11</a>\u001b[0m     \u001b[39mraise\u001b[39;00m \u001b[39mRuntimeError\u001b[39;00m(\u001b[39mf\u001b[39m\u001b[39m\"\"\"\u001b[39m\u001b[39mNo hay suficiente agua para \u001b[39m\u001b[39m{\u001b[39;00mastronautas\u001b[39m}\u001b[39;00m\u001b[39m astronautas para \u001b[39m\u001b[39m{\u001b[39;00mdiasfaltantes\u001b[39m}\u001b[39;00m\u001b[39m dias!\u001b[39m\u001b[39m\"\"\"\u001b[39m)\n\u001b[0;32m     <a href='vscode-notebook-cell:/c%3A/Users/USER/Documents/LaunchX/KatasRealizadas/Kata10.ipynb#ch0000008?line=11'>12</a>\u001b[0m \u001b[39mreturn\u001b[39;00m \u001b[39mf\u001b[39m\u001b[39m\"\"\"\u001b[39m\u001b[39mAgua sobrante despues de \u001b[39m\u001b[39m{\u001b[39;00mdiasfaltantes\u001b[39m}\u001b[39;00m\u001b[39m dias es: \u001b[39m\u001b[39m{\u001b[39;00maguaSobranteTotal\u001b[39m}\u001b[39;00m\u001b[39m litros\u001b[39m\u001b[39m\"\"\"\u001b[39m\n",
      "\u001b[1;31mRuntimeError\u001b[0m: No hay suficiente agua para 5 astronautas para 2 dias!"
     ]
    }
   ],
   "source": [
    "def aguasobrante(astronautas, aguasobrante, diasfaltantes):\n",
    "    for argument in [astronautas, aguasobrante, diasfaltantes]:\n",
    "        try:\n",
    "            argument / 10\n",
    "        except TypeError:\n",
    "            raise TypeError(f\"Se recibieron atributos diferentes al tipo int, los atributos son: '{argument}'\")\n",
    "    usoDiario = astronautas * 11\n",
    "    usoTotal = usoDiario * diasfaltantes\n",
    "    aguaSobranteTotal = aguasobrante - usoTotal\n",
    "    if aguaSobranteTotal < 0:\n",
    "        raise RuntimeError(f\"\"\"No hay suficiente agua para {astronautas} astronautas para {diasfaltantes} dias!\"\"\")\n",
    "    return f\"\"\"Agua sobrante despues de {diasfaltantes} dias es: {aguaSobranteTotal} litros\"\"\"\n",
    "\n",
    "aguasobrante(5,100,2)"
   ]
  }
 ],
 "metadata": {
  "interpreter": {
   "hash": "23300995598eec4bcf6bd89cf02d1c3675e8b2616661418dbbf5580aa901878d"
  },
  "kernelspec": {
   "display_name": "Python 3.9.7 64-bit",
   "language": "python",
   "name": "python3"
  },
  "language_info": {
   "codemirror_mode": {
    "name": "ipython",
    "version": 3
   },
   "file_extension": ".py",
   "mimetype": "text/x-python",
   "name": "python",
   "nbconvert_exporter": "python",
   "pygments_lexer": "ipython3",
   "version": "3.9.7"
  },
  "orig_nbformat": 4
 },
 "nbformat": 4,
 "nbformat_minor": 2
}
