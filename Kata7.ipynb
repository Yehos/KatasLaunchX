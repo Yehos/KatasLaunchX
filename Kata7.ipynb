{
 "cells": [
  {
   "cell_type": "markdown",
   "metadata": {},
   "source": [
    "## Funciones de ciclos en python"
   ]
  },
  {
   "cell_type": "code",
   "execution_count": 9,
   "metadata": {},
   "outputs": [],
   "source": [
    "#variables\n",
    "planetas = []\n",
    "planetaNuevo = \"\"\n",
    "\n",
    "while planetaNuevo.lower() != \"no\":\n",
    "    if(planetaNuevo):\n",
    "        planetas.append(planetaNuevo)\n",
    "    \n",
    "    planetaNuevo  = input(\"Desea meter otro planeta? Para salir solo escriba \"\"no\")"
   ]
  },
  {
   "cell_type": "code",
   "execution_count": 11,
   "metadata": {},
   "outputs": [
    {
     "name": "stdout",
     "output_type": "stream",
     "text": [
      "Tierra\n",
      "Venus\n",
      "Saturno\n",
      "Jupiter\n",
      "Urano\n"
     ]
    }
   ],
   "source": [
    "for iter in planetas:\n",
    "    print (iter)"
   ]
  }
 ],
 "metadata": {
  "interpreter": {
   "hash": "23300995598eec4bcf6bd89cf02d1c3675e8b2616661418dbbf5580aa901878d"
  },
  "kernelspec": {
   "display_name": "Python 3.9.7 64-bit",
   "language": "python",
   "name": "python3"
  },
  "language_info": {
   "codemirror_mode": {
    "name": "ipython",
    "version": 3
   },
   "file_extension": ".py",
   "mimetype": "text/x-python",
   "name": "python",
   "nbconvert_exporter": "python",
   "pygments_lexer": "ipython3",
   "version": "3.9.7"
  },
  "orig_nbformat": 4
 },
 "nbformat": 4,
 "nbformat_minor": 2
}
