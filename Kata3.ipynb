{
 "cells": [
  {
   "cell_type": "markdown",
   "metadata": {},
   "source": [
    "#Ejercicio 1 - Asteroide"
   ]
  },
  {
   "cell_type": "code",
   "execution_count": 5,
   "metadata": {},
   "outputs": [
    {
     "name": "stdout",
     "output_type": "stream",
     "text": [
      "Peligro la velocidad del asteroide es excesiva\n"
     ]
    }
   ],
   "source": [
    "velocidadAsteroide = 49\n",
    "\n",
    "#print(\"velocidad de asteoride es: \" + str(velocidadAsteroide))\n",
    "if(velocidadAsteroide>25):\n",
    "    print(\"Peligro la velocidad del asteroide es excesiva\")"
   ]
  },
  {
   "cell_type": "code",
   "execution_count": 10,
   "metadata": {},
   "outputs": [
    {
     "name": "stdout",
     "output_type": "stream",
     "text": [
      "La velocidad del asteroide es: 19 y es poco visible la luz\n"
     ]
    }
   ],
   "source": [
    "velocidadAsteroide= 19\n",
    "\n",
    "if(velocidadAsteroide>=20):\n",
    "    print(\"Se observa una luz en el cielo\")\n",
    "elif(velocidadAsteroide<19):\n",
    "    print(\"No es posible ver dicha luz\")\n",
    "else:\n",
    "    print(\"La velocidad del asteroide es: \" + str(velocidadAsteroide) + \" y es poco visible la luz\")    \n"
   ]
  },
  {
   "cell_type": "code",
   "execution_count": 11,
   "metadata": {},
   "outputs": [
    {
     "name": "stdout",
     "output_type": "stream",
     "text": [
      "Si el asteroide impacta causara mucho daño\n",
      "Es posible ver una luz en el cielo\n"
     ]
    }
   ],
   "source": [
    "velocidadAsteroide= 25\n",
    "tamAsteroide = 40\n",
    "\n",
    "if(tamAsteroide>=25 or tamAsteroide<=100):\n",
    "    print(\"Si el asteroide impacta causara mucho daño\")\n",
    "    if(velocidadAsteroide>25):\n",
    "        print(\"Es muy probable la extincion ya que el asteroide supera las estmaciones\")\n",
    "    elif(velocidadAsteroide>=20):\n",
    "        print(\"Es posible ver una luz en el cielo\")\n",
    "else:\n",
    "    print(\"No es posible ver nada\")\n"
   ]
  }
 ],
 "metadata": {
  "interpreter": {
   "hash": "b3ba2566441a7c06988d0923437866b63cedc61552a5af99d1f4fb67d367b25f"
  },
  "kernelspec": {
   "display_name": "Python 3.8.8 ('base')",
   "language": "python",
   "name": "python3"
  },
  "language_info": {
   "codemirror_mode": {
    "name": "ipython",
    "version": 3
   },
   "file_extension": ".py",
   "mimetype": "text/x-python",
   "name": "python",
   "nbconvert_exporter": "python",
   "pygments_lexer": "ipython3",
   "version": "3.8.8"
  },
  "orig_nbformat": 4
 },
 "nbformat": 4,
 "nbformat_minor": 2
}
