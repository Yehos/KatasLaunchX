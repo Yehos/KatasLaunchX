{
 "cells": [
  {
   "cell_type": "markdown",
   "metadata": {},
   "source": [
    "## Ejercicio operadores aritmeticos"
   ]
  },
  {
   "cell_type": "code",
   "execution_count": 4,
   "metadata": {},
   "outputs": [
    {
     "name": "stdout",
     "output_type": "stream",
     "text": [
      "La distancia en kilometros entre los planetas es: 628949330\n",
      "La distancia en millas entre los planetas es 390577533.93\n"
     ]
    }
   ],
   "source": [
    "#Distancia de planetas\n",
    "\n",
    "distanciaTierra = 149597870\n",
    "distanciaJupiter = 778547200\n",
    "\n",
    "#Resta de la distancia\n",
    "\n",
    "resta =  distanciaJupiter - distanciaTierra\n",
    "print(\"La distancia en kilometros entre los planetas es: \" + str(resta))\n",
    "\n",
    "print(\"La distancia en millas entre los planetas es \" + str(resta*0.621))"
   ]
  },
  {
   "cell_type": "markdown",
   "metadata": {},
   "source": [
    "## Ejercicio 2"
   ]
  },
  {
   "cell_type": "code",
   "execution_count": 5,
   "metadata": {},
   "outputs": [],
   "source": [
    "distancia1erPlaneta = input(\"Distancia del sol al primer planeta\")\n",
    "distancia2doPlaneta = input(\"Distancia del sol al segundo planeta\")\n",
    "\n",
    "distancia1erPlaneta = int (distancia1erPlaneta)\n",
    "distancia2doPlaneta = int (distancia2doPlaneta)"
   ]
  },
  {
   "cell_type": "code",
   "execution_count": 7,
   "metadata": {},
   "outputs": [
    {
     "name": "stdout",
     "output_type": "stream",
     "text": [
      "la distancia obtenida  en Kilomentros es: 4999635\n",
      "la distancia obtenida en millas es: 3104773.335\n"
     ]
    }
   ],
   "source": [
    "#Calculo de distancia\n",
    "\n",
    "diferenciaDistancia = distancia2doPlaneta - distancia1erPlaneta\n",
    "diferenciaDistancia = abs(diferenciaDistancia)\n",
    "print(\"la distancia obtenida  en Kilomentros es: \" + str(diferenciaDistancia))\n",
    "diferenciaDistancia = diferenciaDistancia * 0.621\n",
    "print(\"la distancia obtenida en millas es: \" + str(diferenciaDistancia))\n",
    "\n",
    "\n"
   ]
  }
 ],
 "metadata": {
  "interpreter": {
   "hash": "23300995598eec4bcf6bd89cf02d1c3675e8b2616661418dbbf5580aa901878d"
  },
  "kernelspec": {
   "display_name": "Python 3.9.7 64-bit",
   "language": "python",
   "name": "python3"
  },
  "language_info": {
   "codemirror_mode": {
    "name": "ipython",
    "version": 3
   },
   "file_extension": ".py",
   "mimetype": "text/x-python",
   "name": "python",
   "nbconvert_exporter": "python",
   "pygments_lexer": "ipython3",
   "version": "3.9.7"
  },
  "orig_nbformat": 4
 },
 "nbformat": 4,
 "nbformat_minor": 2
}
