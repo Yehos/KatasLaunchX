{
 "cells": [
  {
   "cell_type": "markdown",
   "metadata": {},
   "source": [
    "## Funciones en python"
   ]
  },
  {
   "cell_type": "code",
   "execution_count": 3,
   "metadata": {},
   "outputs": [],
   "source": [
    "# Función para leer 3 tanques de combustible y muestre el promedio\n",
    " \n",
    "def reporte(var1,var2,var3):\n",
    "    promedio = (var1+var2+var3)/3\n",
    "    return f\"\"\"Reporte: Promedio: {promedio} Variable1: {var1} Variable2: {var2} Variable3 {var3}\"\"\""
   ]
  },
  {
   "cell_type": "code",
   "execution_count": 12,
   "metadata": {},
   "outputs": [
    {
     "name": "stdout",
     "output_type": "stream",
     "text": [
      "Reporte: Promedio: 76.66666666666667 Variable1: 100 Variable2: 50 Variable13 80\n"
     ]
    },
    {
     "data": {
      "text/plain": [
       "50.6"
      ]
     },
     "execution_count": 12,
     "metadata": {},
     "output_type": "execute_result"
    }
   ],
   "source": [
    "print(reporte(100,50,80))\n",
    "\n",
    "def promedio(valores):\n",
    "    total = sum(valores)\n",
    "    cantidad =  len(valores)\n",
    "    prom = total / cantidad\n",
    "    return prom\n",
    "    \n",
    "promedio([66,54,28,85,20])\n"
   ]
  },
  {
   "cell_type": "code",
   "execution_count": 13,
   "metadata": {},
   "outputs": [
    {
     "name": "stdout",
     "output_type": "stream",
     "text": [
      "Reporte: Promedio: 230.0 Variable1: 100 Variable2: 50 Variable3 80\n"
     ]
    }
   ],
   "source": [
    "def reporte2(var1,var2,var3):\n",
    "    return f\"\"\"Reporte: Promedio: {promedio([var1+var2+var3])} Variable1: {var1} Variable2: {var2} Variable3 {var3}\"\"\"\n",
    "\n",
    "print(reporte2(100,50,80))"
   ]
  },
  {
   "cell_type": "markdown",
   "metadata": {},
   "source": [
    "#Argumentos de palabra clave"
   ]
  },
  {
   "cell_type": "code",
   "execution_count": 14,
   "metadata": {},
   "outputs": [
    {
     "name": "stdout",
     "output_type": "stream",
     "text": [
      "Reporte de mision: El tiempo de llegada es: 52 minutos, el combustible actual es 80% y el nombre de destino es Luna\n"
     ]
    }
   ],
   "source": [
    "def reporteMision(tiempoDestino,combustible,nombreDestino):\n",
    "    return f\"\"\"Reporte de mision: El tiempo de llegada es: {tiempoDestino} minutos, el combustible actual es {combustible}% y el nombre de destino es {nombreDestino}\"\"\"\n",
    "\n",
    "print(reporteMision(52,80,\"Luna\"))\n",
    "\n",
    "\n",
    "def reporteMision(tiempoDestino,combustible,nombreDestino):\n",
    "    return f\"\"\"Reporte de mision: El tiempo de llegada es: {tiempoDestino} minutos, el combustible actual es {combustible}% y el nombre de destino es {nombreDestino}\"\"\"\n",
    "\n",
    "print(reporteMision(52,80,\"Luna\"))\n"
   ]
  }
 ],
 "metadata": {
  "interpreter": {
   "hash": "23300995598eec4bcf6bd89cf02d1c3675e8b2616661418dbbf5580aa901878d"
  },
  "kernelspec": {
   "display_name": "Python 3.9.7 64-bit",
   "language": "python",
   "name": "python3"
  },
  "language_info": {
   "codemirror_mode": {
    "name": "ipython",
    "version": 3
   },
   "file_extension": ".py",
   "mimetype": "text/x-python",
   "name": "python",
   "nbconvert_exporter": "python",
   "pygments_lexer": "ipython3",
   "version": "3.9.7"
  },
  "orig_nbformat": 4
 },
 "nbformat": 4,
 "nbformat_minor": 2
}
