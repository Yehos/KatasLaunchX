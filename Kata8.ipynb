{
 "cells": [
  {
   "cell_type": "markdown",
   "metadata": {},
   "source": [
    "## Diccionarios en python"
   ]
  },
  {
   "cell_type": "code",
   "execution_count": 1,
   "metadata": {},
   "outputs": [],
   "source": [
    "# Ejemplo\n",
    "#\n",
    "# demo = {\n",
    "#    'key': 'value',\n",
    "#    'number': 42\n",
    "# }\n",
    "#\n",
    "\n",
    "planeta = {\n",
    "    'nombre' : \"Marte\",\n",
    "    'lunas'  : 2\n",
    "}"
   ]
  },
  {
   "cell_type": "code",
   "execution_count": 2,
   "metadata": {},
   "outputs": [
    {
     "name": "stdout",
     "output_type": "stream",
     "text": [
      "Marte tiene 2 lunas\n"
     ]
    }
   ],
   "source": [
    "#Mostrando informacion\n",
    "\n",
    "print(f'{planeta[\"nombre\"]} tiene {planeta[\"lunas\"]} lunas')"
   ]
  },
  {
   "cell_type": "code",
   "execution_count": 4,
   "metadata": {},
   "outputs": [
    {
     "name": "stdout",
     "output_type": "stream",
     "text": [
      "Marte tiene 2 lunas y una circunferencia {'polar': 6752, 'equatorial': 6792}\n"
     ]
    }
   ],
   "source": [
    "#Añadiendo los datos\n",
    "\n",
    "planeta['circunferencia (km)'] = {\n",
    "    'polar': 6752,\n",
    "    'equatorial': 6792\n",
    "}\n",
    "\n",
    "print(f'{planeta[\"nombre\"]} tiene {planeta[\"lunas\"]} lunas y una circunferencia {planeta[\"circunferencia (km)\"]}')"
   ]
  },
  {
   "cell_type": "markdown",
   "metadata": {},
   "source": [
    "#Ejercicio 2"
   ]
  },
  {
   "cell_type": "code",
   "execution_count": 25,
   "metadata": {},
   "outputs": [
    {
     "name": "stdout",
     "output_type": "stream",
     "text": [
      "Son 214 lunas en el sistema solar\n",
      "Son 12 planetas en el sistema solar\n",
      "El promedio de lunas es: 17.833333333333332\n"
     ]
    }
   ],
   "source": [
    "#informacion dada\n",
    "\n",
    "planet_moons = {\n",
    "    'mercury': 0,\n",
    "    'venus': 0,\n",
    "    'earth': 1,\n",
    "    'mars': 2,\n",
    "    'jupiter': 79,\n",
    "    'saturn': 82,\n",
    "    'uranus': 27,\n",
    "    'neptune': 14,\n",
    "    'pluto': 5,\n",
    "    'haumea': 2,\n",
    "    'makemake': 1,\n",
    "    'eris': 1\n",
    "}\n",
    "\n",
    "cantidadLunas = planet_moons.values()\n",
    "cantidadPlanetas = len(planet_moons.keys())\n",
    "lunas = 0\n",
    "\n",
    "for a in cantidadLunas:\n",
    "    lunas = lunas + a\n",
    "print(\"Son \" + str(lunas) +\" lunas en el sistema solar\")\n",
    "print(\"Son \" + str(cantidadPlanetas) +\" planetas en el sistema solar\")\n",
    "promedio = lunas/cantidadPlanetas\n",
    "print(\"El promedio de lunas es: \" + str(promedio) )\n"
   ]
  }
 ],
 "metadata": {
  "interpreter": {
   "hash": "23300995598eec4bcf6bd89cf02d1c3675e8b2616661418dbbf5580aa901878d"
  },
  "kernelspec": {
   "display_name": "Python 3.9.7 64-bit",
   "language": "python",
   "name": "python3"
  },
  "language_info": {
   "codemirror_mode": {
    "name": "ipython",
    "version": 3
   },
   "file_extension": ".py",
   "mimetype": "text/x-python",
   "name": "python",
   "nbconvert_exporter": "python",
   "pygments_lexer": "ipython3",
   "version": "3.9.7"
  },
  "orig_nbformat": 4
 },
 "nbformat": 4,
 "nbformat_minor": 2
}
